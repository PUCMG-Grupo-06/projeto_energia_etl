{
 "cells": [
  {
   "cell_type": "code",
   "execution_count": null,
   "id": "5ffaa029",
   "metadata": {},
   "outputs": [],
   "source": [
    "#importar biblicoteca e criar database"
   ]
  },
  {
   "cell_type": "code",
   "execution_count": 1,
   "id": "d23c144f",
   "metadata": {},
   "outputs": [],
   "source": [
    "import pandas as pd"
   ]
  },
  {
   "cell_type": "code",
   "execution_count": 6,
   "id": "22d83c37",
   "metadata": {},
   "outputs": [],
   "source": [
    "base = pd.read_csv (\"consumo_mensal_energia_por_uf_final.csv\", encoding= \"utf_8\", sep = \";\")"
   ]
  },
  {
   "cell_type": "code",
   "execution_count": 8,
   "id": "40bf6297",
   "metadata": {},
   "outputs": [],
   "source": [
    "df = pd.DataFrame(base)"
   ]
  },
  {
   "cell_type": "code",
   "execution_count": 9,
   "id": "8a7edc3a",
   "metadata": {},
   "outputs": [
    {
     "data": {
      "text/html": [
       "<div>\n",
       "<style scoped>\n",
       "    .dataframe tbody tr th:only-of-type {\n",
       "        vertical-align: middle;\n",
       "    }\n",
       "\n",
       "    .dataframe tbody tr th {\n",
       "        vertical-align: top;\n",
       "    }\n",
       "\n",
       "    .dataframe thead th {\n",
       "        text-align: right;\n",
       "    }\n",
       "</style>\n",
       "<table border=\"1\" class=\"dataframe\">\n",
       "  <thead>\n",
       "    <tr style=\"text-align: right;\">\n",
       "      <th></th>\n",
       "      <th>uf</th>\n",
       "      <th>mês</th>\n",
       "      <th>consumo</th>\n",
       "    </tr>\n",
       "  </thead>\n",
       "  <tbody>\n",
       "    <tr>\n",
       "      <th>0</th>\n",
       "      <td>RO</td>\n",
       "      <td>2018-01-01</td>\n",
       "      <td>249348.71</td>\n",
       "    </tr>\n",
       "    <tr>\n",
       "      <th>1</th>\n",
       "      <td>AC</td>\n",
       "      <td>2018-01-01</td>\n",
       "      <td>81045.30</td>\n",
       "    </tr>\n",
       "    <tr>\n",
       "      <th>2</th>\n",
       "      <td>AM</td>\n",
       "      <td>2018-01-01</td>\n",
       "      <td>460127.57</td>\n",
       "    </tr>\n",
       "    <tr>\n",
       "      <th>3</th>\n",
       "      <td>RR</td>\n",
       "      <td>2018-01-01</td>\n",
       "      <td>76488.94</td>\n",
       "    </tr>\n",
       "    <tr>\n",
       "      <th>4</th>\n",
       "      <td>PA</td>\n",
       "      <td>2018-01-01</td>\n",
       "      <td>1684268.39</td>\n",
       "    </tr>\n",
       "    <tr>\n",
       "      <th>...</th>\n",
       "      <td>...</td>\n",
       "      <td>...</td>\n",
       "      <td>...</td>\n",
       "    </tr>\n",
       "    <tr>\n",
       "      <th>1372</th>\n",
       "      <td>RS</td>\n",
       "      <td>2022-03-01</td>\n",
       "      <td>2857317.43</td>\n",
       "    </tr>\n",
       "    <tr>\n",
       "      <th>1373</th>\n",
       "      <td>MS</td>\n",
       "      <td>2022-03-01</td>\n",
       "      <td>606478.73</td>\n",
       "    </tr>\n",
       "    <tr>\n",
       "      <th>1374</th>\n",
       "      <td>MT</td>\n",
       "      <td>2022-03-01</td>\n",
       "      <td>831955.31</td>\n",
       "    </tr>\n",
       "    <tr>\n",
       "      <th>1375</th>\n",
       "      <td>GO</td>\n",
       "      <td>2022-03-01</td>\n",
       "      <td>1394521.16</td>\n",
       "    </tr>\n",
       "    <tr>\n",
       "      <th>1376</th>\n",
       "      <td>DF</td>\n",
       "      <td>2022-03-01</td>\n",
       "      <td>539166.08</td>\n",
       "    </tr>\n",
       "  </tbody>\n",
       "</table>\n",
       "<p>1377 rows × 3 columns</p>\n",
       "</div>"
      ],
      "text/plain": [
       "      uf         mês     consumo\n",
       "0     RO  2018-01-01   249348.71\n",
       "1     AC  2018-01-01    81045.30\n",
       "2     AM  2018-01-01   460127.57\n",
       "3     RR  2018-01-01    76488.94\n",
       "4     PA  2018-01-01  1684268.39\n",
       "...   ..         ...         ...\n",
       "1372  RS  2022-03-01  2857317.43\n",
       "1373  MS  2022-03-01   606478.73\n",
       "1374  MT  2022-03-01   831955.31\n",
       "1375  GO  2022-03-01  1394521.16\n",
       "1376  DF  2022-03-01   539166.08\n",
       "\n",
       "[1377 rows x 3 columns]"
      ]
     },
     "execution_count": 9,
     "metadata": {},
     "output_type": "execute_result"
    }
   ],
   "source": [
    "df"
   ]
  },
  {
   "cell_type": "code",
   "execution_count": null,
   "id": "78d2d1ac",
   "metadata": {},
   "outputs": [],
   "source": [
    "#Renomear coluna para mes"
   ]
  },
  {
   "cell_type": "code",
   "execution_count": 10,
   "id": "d2f55f96",
   "metadata": {},
   "outputs": [],
   "source": [
    "df.rename(columns = {'mês':'mes' }, inplace = True)"
   ]
  },
  {
   "cell_type": "code",
   "execution_count": null,
   "id": "e4aff208",
   "metadata": {},
   "outputs": [],
   "source": [
    "#Conversao dos valores de consumo de energia de KW para MW"
   ]
  },
  {
   "cell_type": "code",
   "execution_count": 12,
   "id": "bc4af1a7",
   "metadata": {},
   "outputs": [],
   "source": [
    "df['consumo'] = (df['consumo'] / 1000)"
   ]
  },
  {
   "cell_type": "code",
   "execution_count": null,
   "id": "767e44c2",
   "metadata": {},
   "outputs": [],
   "source": [
    "#Exportar arquivo"
   ]
  },
  {
   "cell_type": "code",
   "execution_count": 14,
   "id": "d38a67ef",
   "metadata": {
    "scrolled": true
   },
   "outputs": [],
   "source": [
    "df.to_csv(index: \"consumo.csv\")"
   ]
  },
  {
   "cell_type": "code",
   "execution_count": null,
   "id": "d71491f5",
   "metadata": {},
   "outputs": [],
   "source": []
  }
 ],
 "metadata": {
  "kernelspec": {
   "display_name": "Python 3 (ipykernel)",
   "language": "python",
   "name": "python3"
  },
  "language_info": {
   "codemirror_mode": {
    "name": "ipython",
    "version": 3
   },
   "file_extension": ".py",
   "mimetype": "text/x-python",
   "name": "python",
   "nbconvert_exporter": "python",
   "pygments_lexer": "ipython3",
   "version": "3.7.1"
  }
 },
 "nbformat": 4,
 "nbformat_minor": 5
}
